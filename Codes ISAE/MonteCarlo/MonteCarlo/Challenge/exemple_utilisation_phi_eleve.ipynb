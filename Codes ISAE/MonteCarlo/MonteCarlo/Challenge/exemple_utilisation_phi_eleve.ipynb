{
 "cells": [
  {
   "cell_type": "code",
   "execution_count": 1,
   "metadata": {
    "collapsed": true
   },
   "outputs": [],
   "source": [
    "%matplotlib inline\n",
    "import numpy as np\n",
    "import matplotlib\n",
    "import matplotlib.pyplot as plt\n",
    "from scipy import special, stats\n",
    "\n",
    "from fonction_challenge import phi\n",
    "\n",
    "matplotlib.rcParams['figure.figsize'] = (20,10)\n",
    "matplotlib.rcParams['font.size'] = 22\n",
    "matplotlib.rcParams['legend.handlelength'] = 2\n",
    "matplotlib.rcParams['lines.linewidth'] = 3"
   ]
  },
  {
   "cell_type": "markdown",
   "metadata": {},
   "source": [
    "<h2>Objectif</h2>\n",
    "\n",
    "Nous souhaitons estimer la quantité suivante\n",
    "\\begin{equation*}\n",
    "R = \\frac{\\displaystyle{\\int_{\\mathbb{R}^{10}} \\phi^2(x)\\ dx}}{\\displaystyle{\\int_{\\mathbb{R}^{10}} \\phi(x)\\ dx}}\n",
    "\\end{equation*}\n",
    "pour une fonction $\\phi : \\mathbb{R}^{10} \\rightarrow \\mathbb{R}$ dont nous ne pouvons que obtenir des évaluations. Ce type de problème est parfois qualifié de \"boîte noire\" car nous n'avons pas accès à la fonction $\\phi$ elle-même et chaque appel peut être coûteux. Pour mesurer ce nombre d'appel dans vos procédures, vous utiliserez une variable entière `budget` qui représentera le nombre maximal d'appels à $\\phi$."
   ]
  },
  {
   "cell_type": "code",
   "execution_count": 2,
   "metadata": {},
   "outputs": [
    {
     "name": "stdout",
     "output_type": "stream",
     "text": [
      "[  3.73483079e-09   1.01130638e-08]\n"
     ]
    }
   ],
   "source": [
    "# Deux points d'évaluation\n",
    "x = [[0,0,0,0,0,0,0,0,0,0],\n",
    "     [1,1,1,1,1,1,1,1,1,1]]\n",
    "\n",
    "# Évaluations de phi sur les points donnés par les lignes de la matrice x\n",
    "y = phi(x)\n",
    "\n",
    "# Affichage des valeurs de phi\n",
    "print(y)"
   ]
  },
  {
   "cell_type": "markdown",
   "metadata": {},
   "source": [
    "<h2>Consignes</h2>\n",
    "\n",
    "Chaque groupe devra proposer une méthode d'estimation par échantillonnage préférentiel dans la fonction `estimation_IS` et une méthode d'estimation par MCMC dans la fonction `estimation_MCMC`. Ces deux fonctions ne doivent prendre qu'un unique argument `budget` correspondant au nombre d'appels à la fonction $\\phi$ et elles retournent la valeur de l'estimation de $R$."
   ]
  },
  {
   "cell_type": "code",
   "execution_count": null,
   "metadata": {
    "collapsed": true
   },
   "outputs": [],
   "source": [
    "def estimation_IS(budget):\n",
    "    \n",
    "    \n",
    "    \n",
    "    \n",
    "    \n",
    "    R_estimation = # TO DO\n",
    "    return R_estimation"
   ]
  },
  {
   "cell_type": "code",
   "execution_count": 133,
   "metadata": {},
   "outputs": [
    {
     "name": "stdout",
     "output_type": "stream",
     "text": [
      "[ 1.2085284   1.34142376 -0.24164685  2.06520533  5.01098777 -1.7209116\n",
      " -0.64817472  0.28210951  0.49276312  0.50689352]\n",
      "0.65 1.50004747647e-06\n"
     ]
    }
   ],
   "source": [
    "budget = 10**5\n",
    "\n",
    "def estimation_MCMC(budget):\n",
    "    var = np.arange(0.65,0.7,0.05)\n",
    "    \n",
    "    for i in var:\n",
    "        X = np.zeros((budget, 10))+np.array([-1.45922226 , 3.38896009 ,-0.02463185 ,-0.90472281 , 2.71652299, -0.6766634,\n",
    " -0.33367872, -0.90620159, -1.47627956 , 1.56974535])\n",
    "        nb_phi = 0\n",
    "        nb_echant = 1\n",
    "    \n",
    "        while(nb_phi < budget-1):\n",
    "            # varie avec la loi prise\n",
    "            Y = stats.norm.rvs(X[nb_echant-1, :],var,(10))\n",
    "        \n",
    "            aux = np.matrix([Y,X[nb_echant-1,:]])\n",
    "            f = phi(aux)\n",
    "        \n",
    "            nb_phi += 1\n",
    "        \n",
    "            rho = np.minimum(1,f[0]/f[1])\n",
    "            if (np.random.random()<rho):\n",
    "                X[nb_echant,:] = Y\n",
    "            else:\n",
    "                X[nb_echant,:] = X[nb_echant-1]\n",
    "        \n",
    "            nb_echant += 1\n",
    "    \n",
    "        R_estimation = sum(phi(X[1000:]))/(nb_echant-1000)\n",
    "        print(X[budget-1,:])\n",
    "        print(i, R_estimation)\n",
    "    return R_estimation\n",
    "\n",
    "R = estimation_MCMC(budget)\n"
   ]
  },
  {
   "cell_type": "code",
   "execution_count": 8,
   "metadata": {},
   "outputs": [
    {
     "name": "stdout",
     "output_type": "stream",
     "text": [
      "[-0.88699647  0.42727999  0.05360584  0.61677758 -0.49718841 -0.58060294\n",
      "  1.14851217  0.84490397 -0.30789223 -0.5714462 ]\n",
      "[ 0.27299915  0.36881834  0.02642381  0.12332986  0.33259924  0.39777356\n",
      "  0.18925929  0.14405166  0.14210088  0.35795019]\n"
     ]
    }
   ],
   "source": [
    "print(stats.norm.rvs(0,1,(10)))\n",
    "kxy = stats.multivariate_normal.pdf(stats.norm.rvs(0,1,(10)), mean=0, cov=1)\n",
    "print(kxy)"
   ]
  }
 ],
 "metadata": {
  "kernelspec": {
   "display_name": "Python 3",
   "language": "python",
   "name": "python3"
  },
  "language_info": {
   "codemirror_mode": {
    "name": "ipython",
    "version": 3
   },
   "file_extension": ".py",
   "mimetype": "text/x-python",
   "name": "python",
   "nbconvert_exporter": "python",
   "pygments_lexer": "ipython3",
   "version": "3.6.8"
  }
 },
 "nbformat": 4,
 "nbformat_minor": 2
}
